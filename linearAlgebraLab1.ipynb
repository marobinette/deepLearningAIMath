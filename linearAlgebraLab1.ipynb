{
 "cells": [
  {
   "cell_type": "code",
   "execution_count": 113,
   "id": "4ba228bf-a2bc-4295-93cb-5036df728afb",
   "metadata": {},
   "outputs": [],
   "source": [
    "import numpy as np"
   ]
  },
  {
   "cell_type": "code",
   "execution_count": 114,
   "id": "326aa1f9-af80-42e7-8f67-7847f12e5ef6",
   "metadata": {},
   "outputs": [],
   "source": [
    "def swap_rows(M, row_index_1, row_index_2):\n",
    "    \"\"\"\n",
    "    Swap rows in the given matrix.\n",
    "\n",
    "    Parameters:\n",
    "    - matrix (numpy.array): The input matrix to perform row swaps on.\n",
    "    - row_index_1 (int): Index of the first row to be swapped.\n",
    "    - row_index_2 (int): Index of the second row to be swapped.\n",
    "    \"\"\"\n",
    "\n",
    "    # Copy matrix M so the changes do not affect the original matrix. \n",
    "    M = M.copy()\n",
    "    # Swap indexes\n",
    "    M[[row_index_1, row_index_2]] = M[[row_index_2, row_index_1]]\n",
    "    return M"
   ]
  },
  {
   "cell_type": "code",
   "execution_count": 115,
   "id": "9fe913b1-7448-4c7e-a0bc-d0771b8a306b",
   "metadata": {},
   "outputs": [
    {
     "name": "stdout",
     "output_type": "stream",
     "text": [
      "[[ 1  3  6]\n",
      " [ 0 -5  2]\n",
      " [-4  5  8]]\n"
     ]
    }
   ],
   "source": [
    "test_array = np.array([\n",
    "[1, 3, 6],\n",
    "[0, -5, 2],\n",
    "[-4, 5, 8]\n",
    "])\n",
    "print(test_array)"
   ]
  },
  {
   "cell_type": "code",
   "execution_count": 116,
   "id": "8a64986a-30f5-4fc3-a18a-bb99e6a35937",
   "metadata": {},
   "outputs": [
    {
     "name": "stdout",
     "output_type": "stream",
     "text": [
      "[[-4  5  8]\n",
      " [ 0 -5  2]\n",
      " [ 1  3  6]]\n"
     ]
    }
   ],
   "source": [
    "print(swap_rows(test_array, 0, 2))"
   ]
  },
  {
   "cell_type": "code",
   "execution_count": 117,
   "id": "52553d9f-df33-449d-9b57-54db6018e719",
   "metadata": {},
   "outputs": [],
   "source": [
    "def get_index_first_non_zero_value_from_column(M, column, starting_row):\n",
    "    \"\"\"\n",
    "    Retrieve the index of the first non-zero value in a specified column of the given matrix.\n",
    "\n",
    "    Parameters:\n",
    "    - matrix (numpy.array): The input matrix to search for non-zero values.\n",
    "    - column (int): The index of the column to search.\n",
    "    - starting_row (int): The starting row index for the search.\n",
    "\n",
    "    Returns:\n",
    "    int: The index of the first non-zero value in the specified column, starting from the given row.\n",
    "                Returns -1 if no non-zero value is found.\n",
    "    \"\"\"\n",
    "    # Get the column array starting from the specified row\n",
    "    column_array = M[starting_row:,column]\n",
    "    print(\"column array\")\n",
    "    print(column_array)\n",
    "    for i, val in enumerate(column_array):\n",
    "        # Iterate over every value in the column array. \n",
    "        # To check for non-zero values, you must always use np.isclose instead of doing \"val == 0\".\n",
    "        if not np.isclose(val, 0, atol = 1e-5):\n",
    "            # If one non zero value is found, then adjust the index to match the correct index in the matrix and return it.\n",
    "            index = i + starting_row\n",
    "            return index\n",
    "    # If no non-zero value is found below it, return -1.\n",
    "    return -1"
   ]
  },
  {
   "cell_type": "code",
   "execution_count": 118,
   "id": "b1b234cb-7c24-46a7-a1d4-67c3e2f8ac78",
   "metadata": {},
   "outputs": [],
   "source": [
    "def get_index_first_non_zero_value_from_row(M, row, augmented = False):\n",
    "    \"\"\"\n",
    "    Find the index of the first non-zero value in the specified row of the given matrix.\n",
    "\n",
    "    Parameters:\n",
    "    - matrix (numpy.array): The input matrix to search for non-zero values.\n",
    "    - row (int): The index of the row to search.\n",
    "    - augmented (bool): Pass this True if you are dealing with an augmented matrix, \n",
    "                        so it will ignore the constant values (the last column in the augmented matrix).\n",
    "\n",
    "    Returns:\n",
    "    int: The index of the first non-zero value in the specified row.\n",
    "                Returns -1 if no non-zero value is found.\n",
    "    \"\"\"\n",
    "\n",
    "    # Create a copy to avoid modifying the original matrix\n",
    "    M = M.copy()\n",
    "\n",
    "\n",
    "    # If it is an augmented matrix, then ignore the constant values\n",
    "    if augmented == True:\n",
    "        # Isolating the coefficient matrix (removing the constant terms)\n",
    "        M = M[:,:-1]\n",
    "        \n",
    "    # Get the desired row\n",
    "    row_array = M[row]\n",
    "    for i, val in enumerate(row_array):\n",
    "        # If finds a non zero value, returns the index. Otherwise returns -1.\n",
    "        if not np.isclose(val, 0, atol = 1e-5):\n",
    "            return i\n",
    "    return -1"
   ]
  },
  {
   "cell_type": "code",
   "execution_count": 119,
   "id": "5d967712-86c8-4dd0-b83b-0bd4a7069cc9",
   "metadata": {},
   "outputs": [
    {
     "name": "stdout",
     "output_type": "stream",
     "text": [
      "[[ 0  5 -3  6  8]\n",
      " [ 0  6  0  8  1]\n",
      " [ 0  0  0  0  0]\n",
      " [ 0  0  0  0  7]\n",
      " [ 0  2  9  0  4]]\n"
     ]
    }
   ],
   "source": [
    "test_array_2 = np.array([\n",
    "[0, 5, -3 ,6 ,8],\n",
    "[0, 6, 0, 8, 1],\n",
    "[0, 0, 0, 0, 0],\n",
    "[0, 0, 0 ,0 ,7],\n",
    "[0, 2, 9, 0, 4]\n",
    "]\n",
    ")\n",
    "print(test_array_2)"
   ]
  },
  {
   "cell_type": "code",
   "execution_count": 120,
   "id": "46b9b83c-4033-46e9-b6c6-3a441bfd82b9",
   "metadata": {},
   "outputs": [
    {
     "name": "stdout",
     "output_type": "stream",
     "text": [
      "column array\n",
      "[0 7 4]\n",
      "3\n"
     ]
    }
   ],
   "source": [
    "print(get_index_first_non_zero_value_from_column(test_array_2, 4, 2))"
   ]
  },
  {
   "cell_type": "code",
   "execution_count": 121,
   "id": "039adfc8-4a4b-4e0a-ad7a-b718a4841b41",
   "metadata": {},
   "outputs": [
    {
     "name": "stdout",
     "output_type": "stream",
     "text": [
      "7\n"
     ]
    }
   ],
   "source": [
    "print(test_array_2[3, 4]) # 7"
   ]
  },
  {
   "cell_type": "code",
   "execution_count": 122,
   "id": "e2f45946-70cb-40c1-8e8c-8b17b88a06e7",
   "metadata": {},
   "outputs": [
    {
     "name": "stdout",
     "output_type": "stream",
     "text": [
      "column array\n",
      "[0 0 9]\n",
      "4\n"
     ]
    }
   ],
   "source": [
    "print(get_index_first_non_zero_value_from_column(test_array_2, 2, 2))"
   ]
  },
  {
   "cell_type": "code",
   "execution_count": 123,
   "id": "85b8c12c-080a-4dae-ab6e-17383f36cf4e",
   "metadata": {},
   "outputs": [
    {
     "name": "stdout",
     "output_type": "stream",
     "text": [
      "9\n"
     ]
    }
   ],
   "source": [
    "print(test_array_2[4][2]) # 9"
   ]
  },
  {
   "cell_type": "code",
   "execution_count": 124,
   "id": "3b7eed21-f9b0-4abe-a058-da17b01cbbaf",
   "metadata": {},
   "outputs": [],
   "source": [
    "def augmented_matrix(A, B):\n",
    "    \"\"\"\n",
    "    Create an augmented matrix by horizontally stacking two matrices A and B.\n",
    "\n",
    "    Parameters:\n",
    "    - A (numpy.array): First matrix.\n",
    "    - B (numpy.array): Second matrix.\n",
    "\n",
    "    Returns:\n",
    "    - numpy.array: Augmented matrix obtained by horizontally stacking A and B.\n",
    "    \"\"\"\n",
    "    augmented_M = np.hstack((A,B))\n",
    "    return augmented_M"
   ]
  },
  {
   "cell_type": "code",
   "execution_count": 125,
   "id": "1f757192-a258-4daf-8a95-1a97d0566ad9",
   "metadata": {},
   "outputs": [
    {
     "name": "stdout",
     "output_type": "stream",
     "text": [
      "[[ 1  2  3 10]\n",
      " [ 2  6 12  4]\n",
      " [ 4 -8  4  8]]\n"
     ]
    }
   ],
   "source": [
    "A = np.array([[1,2,3], [2,6,12], [4,-8,4]])\n",
    "B = np.array([[10], [4], [8]])\n",
    "\n",
    "print(augmented_matrix(A,B))"
   ]
  },
  {
   "cell_type": "code",
   "execution_count": 126,
   "id": "1b65dd30-2900-4e3b-b728-3c072d743d70",
   "metadata": {},
   "outputs": [],
   "source": [
    "# GRADED FUNCTION: row_echelon_form\n",
    "\n",
    "def row_echelon_form(A, B):\n",
    "    \"\"\"\n",
    "    Utilizes elementary row operations to transform a given set of matrices, \n",
    "    which represent the coefficients and constant terms of a linear system, into row echelon form.\n",
    "\n",
    "    Parameters:\n",
    "    - A (numpy.array): The input square matrix of coefficients.\n",
    "    - B (numpy.array): The input column matrix of constant terms\n",
    "\n",
    "    Returns:\n",
    "    numpy.array: A new augmented matrix in row echelon form with pivots as 1.\n",
    "    \"\"\"\n",
    "    \n",
    "    # Before any computation, check if matrix A (coefficient matrix) has non-zero determinant. \n",
    "    # It will be used the numpy sub library np.linalg to compute it.\n",
    "\n",
    "    det_A = np.linalg.det(A)\n",
    "\n",
    "    # Returns \"Singular system\" if determinant is zero\n",
    "    if np.isclose(det_A, 0) == True:\n",
    "        return 'Singular system'\n",
    "\n",
    "    # Make copies of the input matrices to avoid modifying the originals\n",
    "    A = A.copy()\n",
    "    B = B.copy()\n",
    "\n",
    "    # Convert matrices to float to prevent integer division\n",
    "    A = A.astype('float64')\n",
    "    B = B.astype('float64')\n",
    "\n",
    "    # Number of rows in the coefficient matrix\n",
    "    num_rows = len(A) \n",
    "\n",
    "    ### START CODE HERE ###\n",
    "\n",
    "    # Transform matrices A and B into the augmented matrix M\n",
    "    M = augmented_matrix(A,B)\n",
    "    \n",
    "    # Iterate over the rows.\n",
    "    for row in range(num_rows):\n",
    "\n",
    "        # The first pivot candidate is always in the main diagonal, let's get it. \n",
    "        # Remember that the diagonal elements in a matrix has the same index for row and column. \n",
    "        # You may access a matrix value by typing M[row, column]. In this case, column = None\n",
    "        pivot_candidate = M[row, row]\n",
    "\n",
    "        # If pivot_candidate is zero, it cannot be a pivot for this row. \n",
    "        # So the first step you need to take is to look at the rows below it to check if there is a non-zero element in the same column.\n",
    "        # The usage of np.isclose is a good practice when comparing two floats.\n",
    "        if np.isclose(pivot_candidate, 0) == True: \n",
    "            # Get the index of the first non-zero value below the pivot_candidate. \n",
    "            first_non_zero_value_below_pivot_candidate = get_index_first_non_zero_value_from_column(M, row, row) \n",
    "\n",
    "            # Swap rows\n",
    "            M = swap_rows(M, row, first_non_zero_value_below_pivot_candidate) \n",
    "\n",
    "            # Get the pivot, which is in the main diagonal now \n",
    "            pivot = M[row,row] \n",
    "        \n",
    "        # If pivot_candidate is already non-zero, then it is the pivot for this row\n",
    "        else:\n",
    "            pivot = pivot_candidate \n",
    "        \n",
    "        # Now you are ready to apply the row reduction in every row below the current\n",
    "            \n",
    "        # Divide the current row by the pivot, so the new pivot will be 1. You may use the formula current_row -> 1/pivot * current_row\n",
    "        # Where current_row can be accessed using M[row].\n",
    "        M[row] = (1/pivot) * M[row]\n",
    "\n",
    "        # Perform row reduction for rows below the current row\n",
    "        for j in range(row + 1, num_rows): \n",
    "            # Get the value in the row that is below the pivot value. \n",
    "            # Remember that, since you are dealing only with non-singular matrices, the pivot is in the main diagonal.\n",
    "            # Therefore, the values in row j that are below the pivot, must have column index the same index as the column index for the pivot.\n",
    "            value_below_pivot = M[j, row]\n",
    "            # Perform row reduction using the formula:\n",
    "            # row_to_reduce -> row_to_reduce - value_below_pivot * pivot_row\n",
    "            M[j] = M[j] - value_below_pivot * M[row]\n",
    "            \n",
    "    ### END CODE HERE ###\n",
    "\n",
    "    return M"
   ]
  },
  {
   "cell_type": "code",
   "execution_count": 127,
   "id": "54d8d1b6-0ef1-47e5-98d9-f3412cc88fc2",
   "metadata": {},
   "outputs": [],
   "source": [
    "def back_substitution(M):\n",
    "    \"\"\"\n",
    "    Perform back substitution on an augmented matrix (with unique solution) in reduced row echelon form to find the solution to the linear system.\n",
    "\n",
    "    Parameters:\n",
    "    - M (numpy.array): The augmented matrix in row echelon form with unitary pivots (n x n+1).\n",
    "\n",
    "    Returns:\n",
    "    numpy.array: The solution vector of the linear system.\n",
    "    \"\"\"\n",
    "    \n",
    "    # Make a copy of the input matrix to avoid modifying the original\n",
    "    M = M.copy()\n",
    "\n",
    "    # Get the number of rows (and columns) in the matrix of coefficients\n",
    "    num_rows = M.shape[0]\n",
    "\n",
    "    ### START CODE HERE ####\n",
    "    \n",
    "    # Iterate from bottom to top\n",
    "    for row in reversed(range(num_rows)): \n",
    "        substitution_row = row\n",
    "\n",
    "        # Get the index of the first non-zero element in the substitution row. Remember to pass the correct value to the argument augmented.\n",
    "        index = get_index_first_non_zero_value_from_row(M, substitution_row, True)\n",
    "\n",
    "        # Iterate over the rows above the substitution_row\n",
    "        for j in range(row): \n",
    "\n",
    "            # Get the row to be reduced. The indexing here is similar as above, with the row variable replaced by the j variable.\n",
    "            row_to_reduce = M[j,:]\n",
    "\n",
    "            # Get the value of the element at the found index in the row to reduce\n",
    "            value = row_to_reduce[index]\n",
    "            \n",
    "            # Perform the back substitution step using the formula row_to_reduce -> row_to_reduce - value * substitution_row\n",
    "            row_to_reduce = row_to_reduce - (value * M[substitution_row,:])\n",
    "\n",
    "            # Replace the updated row in the matrix, be careful with indexing!\n",
    "            M[j,:] = row_to_reduce\n",
    "\n",
    "    ### END CODE HERE ####\n",
    "\n",
    "     # Extract the solution from the last column\n",
    "    solution = M[:,-1]\n",
    "    \n",
    "    return solution"
   ]
  },
  {
   "cell_type": "code",
   "execution_count": 131,
   "id": "1d8bfb8f-1cab-42b1-a19c-5ad558611271",
   "metadata": {},
   "outputs": [],
   "source": [
    "def gaussian_elimination(A, B):\n",
    "    \"\"\"\n",
    "    Solve a linear system represented by an augmented matrix using the Gaussian elimination method.\n",
    "\n",
    "    Parameters:\n",
    "    - A (numpy.array): Square matrix of size n x n representing the coefficients of the linear system\n",
    "    - B (numpy.array): Column matrix of size 1 x n representing the constant terms.\n",
    "\n",
    "    Returns:\n",
    "    numpy.array or str: The solution vector if a unique solution exists, or a string indicating the type of solution.\n",
    "    \"\"\"\n",
    "\n",
    "    ### START CODE HERE ###\n",
    "\n",
    "    # Get the matrix in row echelon form\n",
    "    row_echelon_M = row_echelon_form(A,B)\n",
    "    # If the system is non-singular, then perform back substitution to get the result. \n",
    "    # Since the function row_echelon_form returns a string if there is no solution, let's check for that.\n",
    "    # The function isinstance checks if the first argument has the type as the second argument, returning True if it does and False otherwise.\n",
    "    if not isinstance(row_echelon_M, str): \n",
    "        solution = back_substitution(row_echelon_M)\n",
    "\n",
    "    ### END SOLUTION HERE ###\n",
    "\n",
    "    return solution"
   ]
  },
  {
   "cell_type": "markdown",
   "id": "e55f6046-cba1-42c5-a111-cf052e668861",
   "metadata": {},
   "source": [
    "print(row_echelon_form(A, B))"
   ]
  },
  {
   "cell_type": "code",
   "execution_count": 132,
   "id": "364f0750-f16d-4785-9374-5776c08c823c",
   "metadata": {},
   "outputs": [
    {
     "name": "stdout",
     "output_type": "stream",
     "text": [
      "[14.  4. -4.]\n"
     ]
    }
   ],
   "source": [
    "print(gaussian_elimination(A, B))"
   ]
  }
 ],
 "metadata": {
  "kernelspec": {
   "display_name": "Python 3 (ipykernel)",
   "language": "python",
   "name": "python3"
  },
  "language_info": {
   "codemirror_mode": {
    "name": "ipython",
    "version": 3
   },
   "file_extension": ".py",
   "mimetype": "text/x-python",
   "name": "python",
   "nbconvert_exporter": "python",
   "pygments_lexer": "ipython3",
   "version": "3.11.5"
  }
 },
 "nbformat": 4,
 "nbformat_minor": 5
}
